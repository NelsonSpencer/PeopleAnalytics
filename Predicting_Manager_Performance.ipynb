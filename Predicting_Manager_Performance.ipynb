{
  "nbformat": 4,
  "nbformat_minor": 0,
  "metadata": {
    "colab": {
      "name": "Predicting Manager Performance.ipynb",
      "provenance": [],
      "collapsed_sections": [
        "0dYD8_yZwAKS",
        "MKGB0fSirhvB",
        "Ky9RD12fXtX2",
        "qDSHsPJhRWd2",
        "BciDf0ZDRplD",
        "fsOja4z-RpKI",
        "3GBSFtF6RpZQ"
      ],
      "toc_visible": true,
      "authorship_tag": "ABX9TyPLBOE8kSdD9AiVH25PBPqi",
      "include_colab_link": true
    },
    "kernelspec": {
      "name": "python3",
      "display_name": "Python 3"
    }
  },
  "cells": [
    {
      "cell_type": "markdown",
      "metadata": {
        "id": "view-in-github",
        "colab_type": "text"
      },
      "source": [
        "<a href=\"https://colab.research.google.com/github/NelsonSpencer/PeopleAnalytics/blob/master/Predicting_Manager_Performance.ipynb\" target=\"_parent\"><img src=\"https://colab.research.google.com/assets/colab-badge.svg\" alt=\"Open In Colab\"/></a>"
      ]
    },
    {
      "cell_type": "markdown",
      "metadata": {
        "id": "Ntj2Ape1LbiZ",
        "colab_type": "text"
      },
      "source": [
        "#Project Introduction\n",
        "\n",
        "You are working for a North American sales company that has offices in six locations. Recently the CEO of this company has become interested in the performance of its managers. She is interested in knowing what measurable factors influence whether or not a manager performs well or performs poorly.\n",
        "\n",
        "Dataset: https://github.com/keithmcnulty/ebp_exercise"
      ]
    },
    {
      "cell_type": "code",
      "metadata": {
        "id": "mVdGAH7kS7mD",
        "colab_type": "code",
        "outputId": "ae287f01-45de-4e4e-ca18-b3a03ce4bb11",
        "colab": {
          "base_uri": "https://localhost:8080/",
          "height": 377
        }
      },
      "source": [
        "# Importing needed libraries\n",
        "import pandas as pd\n",
        "import numpy as np\n",
        "import matplotlib.pyplot as plt\n",
        "%matplotlib inline \n",
        "import seaborn as sns\n",
        "import pickle\n",
        "import io\n",
        "\n",
        "!pip install eli5\n",
        "!pip install mord\n",
        "\n",
        "import eli5\n",
        "import mord"
      ],
      "execution_count": 0,
      "outputs": [
        {
          "output_type": "stream",
          "text": [
            "Requirement already satisfied: eli5 in /usr/local/lib/python3.6/dist-packages (0.10.1)\n",
            "Requirement already satisfied: numpy>=1.9.0 in /usr/local/lib/python3.6/dist-packages (from eli5) (1.18.4)\n",
            "Requirement already satisfied: six in /usr/local/lib/python3.6/dist-packages (from eli5) (1.12.0)\n",
            "Requirement already satisfied: scikit-learn>=0.18 in /usr/local/lib/python3.6/dist-packages (from eli5) (0.22.2.post1)\n",
            "Requirement already satisfied: jinja2 in /usr/local/lib/python3.6/dist-packages (from eli5) (2.11.2)\n",
            "Requirement already satisfied: attrs>16.0.0 in /usr/local/lib/python3.6/dist-packages (from eli5) (19.3.0)\n",
            "Requirement already satisfied: graphviz in /usr/local/lib/python3.6/dist-packages (from eli5) (0.10.1)\n",
            "Requirement already satisfied: scipy in /usr/local/lib/python3.6/dist-packages (from eli5) (1.4.1)\n",
            "Requirement already satisfied: tabulate>=0.7.7 in /usr/local/lib/python3.6/dist-packages (from eli5) (0.8.7)\n",
            "Requirement already satisfied: joblib>=0.11 in /usr/local/lib/python3.6/dist-packages (from scikit-learn>=0.18->eli5) (0.14.1)\n",
            "Requirement already satisfied: MarkupSafe>=0.23 in /usr/local/lib/python3.6/dist-packages (from jinja2->eli5) (1.1.1)\n",
            "Collecting mord\n",
            "  Downloading https://files.pythonhosted.org/packages/67/9d/c791c841501d9ff4ecb76b57f208dec6cf9f925109c59c995ddec80f9b32/mord-0.6.tar.gz\n",
            "Building wheels for collected packages: mord\n",
            "  Building wheel for mord (setup.py) ... \u001b[?25l\u001b[?25hdone\n",
            "  Created wheel for mord: filename=mord-0.6-cp36-none-any.whl size=6008 sha256=559fab42686d60409676bcd16cc50136a39003223348e320507c24bd03cadcb3\n",
            "  Stored in directory: /root/.cache/pip/wheels/98/14/b2/244c2cec93a0c6edb29b488bd6b2710ded7e9d457033b86366\n",
            "Successfully built mord\n",
            "Installing collected packages: mord\n",
            "Successfully installed mord-0.6\n"
          ],
          "name": "stdout"
        }
      ]
    },
    {
      "cell_type": "code",
      "metadata": {
        "id": "BhQKfBg5WAgg",
        "colab_type": "code",
        "outputId": "2141fbbf-b528-4c67-e220-d1420fc72b91",
        "colab": {
          "resources": {
            "http://localhost:8080/nbextensions/google.colab/files.js": {
              "data": "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",
              "ok": true,
              "headers": [
                [
                  "content-type",
                  "application/javascript"
                ]
              ],
              "status": 200,
              "status_text": ""
            }
          },
          "base_uri": "https://localhost:8080/",
          "height": 71
        }
      },
      "source": [
        "from google.colab import files\n",
        "uploaded = files.upload()"
      ],
      "execution_count": 0,
      "outputs": [
        {
          "output_type": "display_data",
          "data": {
            "text/html": [
              "\n",
              "     <input type=\"file\" id=\"files-661981a8-9d1b-47a5-ae16-768e3c15c359\" name=\"files[]\" multiple disabled />\n",
              "     <output id=\"result-661981a8-9d1b-47a5-ae16-768e3c15c359\">\n",
              "      Upload widget is only available when the cell has been executed in the\n",
              "      current browser session. Please rerun this cell to enable.\n",
              "      </output>\n",
              "      <script src=\"/nbextensions/google.colab/files.js\"></script> "
            ],
            "text/plain": [
              "<IPython.core.display.HTML object>"
            ]
          },
          "metadata": {
            "tags": []
          }
        },
        {
          "output_type": "stream",
          "text": [
            "Saving data.pickle to data.pickle\n"
          ],
          "name": "stdout"
        }
      ]
    },
    {
      "cell_type": "code",
      "metadata": {
        "id": "73v7IHojIZz4",
        "colab_type": "code",
        "colab": {}
      },
      "source": [
        "def time_series_plot(df):\n",
        "    \"\"\"Given dataframe, generate times series plot of numeric data by daily, monthly and yearly frequency\"\"\"\n",
        "    print(\"\\nTo check time series of numeric data  by daily, monthly and yearly frequency\")\n",
        "    if len(df.select_dtypes(include='datetime64').columns)>0:\n",
        "        for col in df.select_dtypes(include='datetime64').columns:\n",
        "            for p in ['D', 'M', 'Y']:\n",
        "                if p=='D':\n",
        "                    print(\"Plotting daily data\")\n",
        "                elif p=='M':\n",
        "                    print(\"Plotting monthly data\")\n",
        "                else:\n",
        "                    print(\"Plotting yearly data\")\n",
        "                for col_num in df.select_dtypes(include=np.number).columns:\n",
        "                    __ = df.copy()\n",
        "                    __ = __.set_index(col)\n",
        "                    __T = __.resample(p).sum()\n",
        "                    ax = __T[[col_num]].plot()\n",
        "                    ax.set_ylim(bottom=0)\n",
        "                    ax.get_yaxis().set_major_formatter(\n",
        "                    matplotlib.ticker.FuncFormatter(lambda x, p: format(int(x), ',')))\n",
        "                    plt.show()\n",
        "\n",
        "                    \n",
        "def numeric_eda(df, hue=None):\n",
        "    \"\"\"Given dataframe, generate EDA of numeric data\"\"\"\n",
        "    print(\"\\nTo check: \\nDistribution of numeric data\")\n",
        "    display(df.describe().T)\n",
        "    columns = df.select_dtypes(include=np.number).columns\n",
        "    # figure = plt.figure(figsize=(20, 10))\n",
        "    # figure.add_subplot(1, len(columns), 1)\n",
        "    # for index, col in enumerate(columns):\n",
        "    #     if index > 0:\n",
        "    #         figure.add_subplot(1, len(columns), index + 1)\n",
        "    #     sns.boxplot(y=col, data=df, boxprops={'facecolor': 'None'})\n",
        "    # figure.tight_layout()\n",
        "    # plt.show()\n",
        "    \n",
        "    # if len(df.select_dtypes(include='category').columns) > 0:\n",
        "    #     for col_num in df.select_dtypes(include=np.number).columns:\n",
        "    #         for col in df.select_dtypes(include='category').columns:\n",
        "    #             fig = sns.catplot(x=col, y=col_num, kind='violin', data=df, height=5, aspect=2)\n",
        "    #             fig.set_xticklabels(rotation=90)\n",
        "    #             plt.show()\n",
        "    \n",
        "    # # Plot the pairwise joint distributions\n",
        "    # print(\"\\nTo check pairwise joint distribution of numeric data\")\n",
        "    # if hue==None:\n",
        "    #     sns.pairplot(df.select_dtypes(include=np.number))\n",
        "    # else:\n",
        "    #     sns.pairplot(df.select_dtypes(include=np.number).join(df[[hue]]), hue=hue)\n",
        "    # plt.show()\n",
        "\n",
        "\n",
        "def top5(df):\n",
        "    \"\"\"Given dataframe, generate top 5 unique values for non-numeric data\"\"\"\n",
        "    columns = df.select_dtypes(include=['object', 'category']).columns\n",
        "    for col in columns:\n",
        "        print(\"Top 5 unique values of \" + col)\n",
        "        print(df[col].value_counts().reset_index().rename(columns={\"index\": col, col: \"Count\"})[\n",
        "              :min(5, len(df[col].value_counts()))])\n",
        "        print(\" \")\n",
        "    \n",
        "    \n",
        "def categorical_eda(df, hue=None):\n",
        "    \"\"\"Given dataframe, generate EDA of categorical data\"\"\"\n",
        "    print(\"\\nTo check: \\nUnique count of non-numeric data\\n\")\n",
        "    print(df.select_dtypes(include=['object', 'category']).nunique())\n",
        "    top5(df)\n",
        "    # Plot count distribution of categorical data\n",
        "    for col in df.select_dtypes(include='category').columns:\n",
        "        fig = sns.catplot(x=col, kind=\"count\", data=df, hue=hue)\n",
        "        fig.set_xticklabels(rotation=90)\n",
        "        plt.show()\n",
        "    \n",
        "\n",
        "def eda(df):\n",
        "    \"\"\"Given dataframe, generate exploratory data analysis\"\"\"\n",
        "    # check that input is pandas dataframe\n",
        "    if type(df) != pd.core.frame.DataFrame:\n",
        "        raise TypeError(\"Only pandas dataframe is allowed as input\")\n",
        "        \n",
        "    # replace field that's entirely space (or empty) with NaN\n",
        "    df = df.replace(r'^\\s*$', np.nan, regex=True)\n",
        "\n",
        "    print(\"Preview of data:\")\n",
        "    display(df.head(3))\n",
        "\n",
        "    print(\"\\nTo check: \\n (1) Total number of entries \\n (2) Column types \\n (3) Any null values\\n\")\n",
        "    print(df.info())\n",
        "\n",
        "    # generate preview of entries with null values\n",
        "    if len(df[df.isnull().any(axis=1)] != 0):\n",
        "        print(\"\\nPreview of data with null values:\")\n",
        "        display(df[df.isnull().any(axis=1)].head(3))\n",
        "        missingno.matrix(df)\n",
        "        plt.show()\n",
        "\n",
        "    # generate count statistics of duplicate entries\n",
        "    if len(df[df.duplicated()]) > 0:\n",
        "        print(\"\\n***Number of duplicated entries: \", len(df[df.duplicated()]))\n",
        "        display(df[df.duplicated(keep=False)].sort_values(by=list(df.columns)).head())\n",
        "    else:\n",
        "        print(\"\\nNo duplicated entries found\")\n",
        "\n",
        "    # EDA of categorical data\n",
        "    categorical_eda(df)\n",
        "    \n",
        "    # EDA of numeric data\n",
        "    numeric_eda(df)\n",
        "        \n",
        "    # Plot time series plot of numeric data\n",
        "    # time_series_plot(df)"
      ],
      "execution_count": 0,
      "outputs": []
    },
    {
      "cell_type": "code",
      "metadata": {
        "id": "p8LmvkwO1TuJ",
        "colab_type": "code",
        "colab": {}
      },
      "source": [
        "def summary_report(pipe):\n",
        "    \n",
        "    y_df = y_train.copy()\n",
        "    X_df = X_train.copy()\n",
        "\n",
        "\n",
        "    X_test1 = X_test.copy()\n",
        "    y_test1 = y_test.copy()\n",
        "    y_pred = pipe.predict(X_test1)\n",
        "\n",
        "    \n",
        "    #CV Accuracy\n",
        "    cv = RepeatedStratifiedKFold(n_splits=10, n_repeats=3, random_state=1)\n",
        "\t  # evaluate model\n",
        "    scores = cross_val_score(pipe, X_df, y_df, scoring='accuracy', cv=cv, n_jobs=-1)\n",
        "    print('Cross Validation Accuracy (Training Data): {:0.3f}'.format(scores.mean()))\n",
        "\n",
        "\n",
        "    print(\"Accuracy (Test Data): {:0.3f}\".format(metrics.accuracy_score(y_test1, y_pred)))\n",
        "\n",
        "    \n",
        "    #Classification Report\n",
        "    print(\"Classification Report (Test Data):\")\n",
        "    report = metrics.classification_report(y_test1, y_pred,\n",
        "        target_names=class_names)\n",
        "    print(report)\n",
        "    \n",
        "\n",
        "\n",
        "    # Plot non-normalized confusion matrix\n",
        "    titles_options = [(\"Confusion matrix (Test Data)\", None)]\n",
        "\n",
        "\n",
        "    np.set_printoptions(precision=10)\n",
        "    \n",
        "    for title, normalize in titles_options:\n",
        "      disp = plot_confusion_matrix(pipe, X_test1, y_test1,\n",
        "                                  display_labels=class_names,\n",
        "                                  cmap=plt.cm.Greens,\n",
        "                                  values_format = '')\n",
        "      disp.ax_.set_title(title)\n",
        "\n",
        "      print(title)\n",
        "      return plt.show()\n",
        "\n",
        "\n",
        "def summary_report_mord(pipe):\n",
        "    \n",
        "    y_df = y_train.copy()\n",
        "    X_df = X_train.copy()\n",
        "\n",
        "\n",
        "    X_test1 = X_test.copy()\n",
        "    y_test1 = y_test.copy()\n",
        "    y_pred = pipe.predict(X_test1)\n",
        "\n",
        "    \n",
        "    #CV Accuracy\n",
        "    cv = RepeatedStratifiedKFold(n_splits=10, n_repeats=3, random_state=1)\n",
        "\t  # evaluate model\n",
        "    scores = cross_val_score(pipe, X_df, y_df, scoring='accuracy', cv=cv, n_jobs=-1)\n",
        "    print('Cross Validation Accuracy (Training Data): {:0.3f}'.format(scores.mean()))\n",
        "\n",
        "\n",
        "    print(\"Accuracy (Test Data): {:0.3f}\".format(metrics.accuracy_score(y_test1, y_pred)))\n",
        "\n",
        "    \n",
        "    #Classification Report\n",
        "    print(\"Classification Report (Test Data):\")\n",
        "    report = metrics.classification_report(y_test1, y_pred,\n",
        "        target_names=class_names,zero_division = 0)\n",
        "    print(report)\n",
        "    \n",
        "\n",
        "\n",
        "    # Plot non-normalized confusion matrix\n",
        "\n",
        "\n",
        "    cm = confusion_matrix(y_test1, y_pred)\n",
        "    disp = ConfusionMatrixDisplay(confusion_matrix=cm,\n",
        "                              display_labels=class_names)\n",
        "\n",
        "\n",
        "    # # NOTE: Fill all variables here with default values of the plot_confusion_matrix\n",
        "    disp = disp.plot(cmap=plt.cm.Greens,\n",
        "                                  values_format = '')\n",
        "\n",
        "    return plt.show()\n"
      ],
      "execution_count": 0,
      "outputs": []
    },
    {
      "cell_type": "code",
      "metadata": {
        "id": "VVRlqP21VO0G",
        "colab_type": "code",
        "colab": {}
      },
      "source": [
        "#Load in data from pickle file https://github.com/keithmcnulty/ebp_exercise\n",
        "raw_data = pickle.load(io.BytesIO(uploaded['data.pickle']))\n",
        "\n",
        "raw_df = pd.DataFrame.from_dict(raw_data, orient='columns')"
      ],
      "execution_count": 0,
      "outputs": []
    },
    {
      "cell_type": "markdown",
      "metadata": {
        "id": "kvTWW2vjyD4T",
        "colab_type": "text"
      },
      "source": [
        "# Exploratory Data Analysis"
      ]
    },
    {
      "cell_type": "markdown",
      "metadata": {
        "id": "1TaRdeKX20Gh",
        "colab_type": "text"
      },
      "source": [
        "Before we dig in, you always want to take a quick look at your data and see if there is anything that stands out that you'd like to change or make note of for later. A few examples of what this can include:\n",
        "\n",
        "\n",
        "*   General description of the data\n",
        "*   Missing Data\n",
        "*   Understanding relationships and new insights through plots\n",
        "\n",
        "From the Github Repo we can see the data includes the following fields for 571 managers:\n",
        "\n",
        "*   employee_id: for each manager\n",
        "*   performance_group of each manager: Bottom performer, Middle performer, Top performer\n",
        "*   yrs_employed: Total length of time employed in years\n",
        "*   manager_hire: whether or not the individual was hired directly to be a manager (Y) or promoted to manager (N)\n",
        "*   test_score: score on a test given to all managers\n",
        "*   group_size: the number of employees in the group they are responsible for\n",
        "*   concern_flag: whether or not the individual has been the subject of a complaint by a member of their group\n",
        "*   mobile_flag: whether or not the individual works mobile (Y) or in the office (N)\n",
        "*   customers: the number of customer accounts the manager is responsible for\n",
        "*   high_hours_flag: whether or not the manager has entered unusually high hours into their timesheet in the past year\n",
        "*   transfers: the number of transfer requests coming from the manager's group while they have been a manager\n",
        "*   reduced_schedule: whether the manager works part time (Y) or full time (N)\n",
        "*   city: the current office of the manager.\n"
      ]
    },
    {
      "cell_type": "code",
      "metadata": {
        "id": "q_qQYQj0IheW",
        "colab_type": "code",
        "outputId": "0aa9710a-2bb2-46f3-b136-941257c167e7",
        "colab": {
          "base_uri": "https://localhost:8080/",
          "height": 1000
        }
      },
      "source": [
        "eda(raw_df)"
      ],
      "execution_count": 0,
      "outputs": [
        {
          "output_type": "stream",
          "text": [
            "Preview of data:\n"
          ],
          "name": "stdout"
        },
        {
          "output_type": "display_data",
          "data": {
            "text/html": [
              "<div>\n",
              "<style scoped>\n",
              "    .dataframe tbody tr th:only-of-type {\n",
              "        vertical-align: middle;\n",
              "    }\n",
              "\n",
              "    .dataframe tbody tr th {\n",
              "        vertical-align: top;\n",
              "    }\n",
              "\n",
              "    .dataframe thead th {\n",
              "        text-align: right;\n",
              "    }\n",
              "</style>\n",
              "<table border=\"1\" class=\"dataframe\">\n",
              "  <thead>\n",
              "    <tr style=\"text-align: right;\">\n",
              "      <th></th>\n",
              "      <th>concern_flag</th>\n",
              "      <th>customers</th>\n",
              "      <th>employee_id</th>\n",
              "      <th>group_size</th>\n",
              "      <th>performance_group</th>\n",
              "      <th>test_score</th>\n",
              "      <th>manager_hire</th>\n",
              "      <th>reduced_schedule</th>\n",
              "      <th>mobile_flag</th>\n",
              "      <th>yrs_employed</th>\n",
              "      <th>transfers</th>\n",
              "      <th>high_hours_flag</th>\n",
              "      <th>city</th>\n",
              "    </tr>\n",
              "  </thead>\n",
              "  <tbody>\n",
              "    <tr>\n",
              "      <th>0</th>\n",
              "      <td>N</td>\n",
              "      <td>12.0</td>\n",
              "      <td>c4578853</td>\n",
              "      <td>10.0</td>\n",
              "      <td>Bottom</td>\n",
              "      <td>205.0</td>\n",
              "      <td>N</td>\n",
              "      <td>Y</td>\n",
              "      <td>N</td>\n",
              "      <td>4.6</td>\n",
              "      <td>0.0</td>\n",
              "      <td>N</td>\n",
              "      <td>San Francisco</td>\n",
              "    </tr>\n",
              "    <tr>\n",
              "      <th>1</th>\n",
              "      <td>N</td>\n",
              "      <td>18.0</td>\n",
              "      <td>a7d7afd6</td>\n",
              "      <td>14.0</td>\n",
              "      <td>Middle</td>\n",
              "      <td>227.0</td>\n",
              "      <td>N</td>\n",
              "      <td>N</td>\n",
              "      <td>Y</td>\n",
              "      <td>5.3</td>\n",
              "      <td>0.0</td>\n",
              "      <td>N</td>\n",
              "      <td>New York</td>\n",
              "    </tr>\n",
              "    <tr>\n",
              "      <th>2</th>\n",
              "      <td>N</td>\n",
              "      <td>12.0</td>\n",
              "      <td>272b93f1</td>\n",
              "      <td>10.0</td>\n",
              "      <td>Bottom</td>\n",
              "      <td>227.0</td>\n",
              "      <td>N</td>\n",
              "      <td>Y</td>\n",
              "      <td>N</td>\n",
              "      <td>5.2</td>\n",
              "      <td>0.0</td>\n",
              "      <td>N</td>\n",
              "      <td>Chicago</td>\n",
              "    </tr>\n",
              "  </tbody>\n",
              "</table>\n",
              "</div>"
            ],
            "text/plain": [
              "  concern_flag  customers employee_id  ...  transfers high_hours_flag           city\n",
              "0            N       12.0    c4578853  ...        0.0               N  San Francisco\n",
              "1            N       18.0    a7d7afd6  ...        0.0               N       New York\n",
              "2            N       12.0    272b93f1  ...        0.0               N        Chicago\n",
              "\n",
              "[3 rows x 13 columns]"
            ]
          },
          "metadata": {
            "tags": []
          }
        },
        {
          "output_type": "stream",
          "text": [
            "\n",
            "To check: \n",
            " (1) Total number of entries \n",
            " (2) Column types \n",
            " (3) Any null values\n",
            "\n",
            "<class 'pandas.core.frame.DataFrame'>\n",
            "RangeIndex: 571 entries, 0 to 570\n",
            "Data columns (total 13 columns):\n",
            " #   Column             Non-Null Count  Dtype  \n",
            "---  ------             --------------  -----  \n",
            " 0   concern_flag       571 non-null    object \n",
            " 1   customers          571 non-null    float64\n",
            " 2   employee_id        571 non-null    object \n",
            " 3   group_size         571 non-null    float64\n",
            " 4   performance_group  571 non-null    object \n",
            " 5   test_score         571 non-null    float64\n",
            " 6   manager_hire       571 non-null    object \n",
            " 7   reduced_schedule   571 non-null    object \n",
            " 8   mobile_flag        571 non-null    object \n",
            " 9   yrs_employed       571 non-null    float64\n",
            " 10  transfers          571 non-null    float64\n",
            " 11  high_hours_flag    571 non-null    object \n",
            " 12  city               571 non-null    object \n",
            "dtypes: float64(5), object(8)\n",
            "memory usage: 58.1+ KB\n",
            "None\n",
            "\n",
            "No duplicated entries found\n",
            "\n",
            "To check: \n",
            "Unique count of non-numeric data\n",
            "\n",
            "concern_flag           2\n",
            "employee_id          571\n",
            "performance_group      3\n",
            "manager_hire           2\n",
            "reduced_schedule       2\n",
            "mobile_flag            2\n",
            "high_hours_flag        2\n",
            "city                   6\n",
            "dtype: int64\n",
            "Top 5 unique values of concern_flag\n",
            "  concern_flag  Count\n",
            "0            N    514\n",
            "1            Y     57\n",
            " \n",
            "Top 5 unique values of employee_id\n",
            "  employee_id  Count\n",
            "0    2f848ab0      1\n",
            "1    8476e4e6      1\n",
            "2    cdd744e7      1\n",
            "3    dffb138f      1\n",
            "4    3b4dd5df      1\n",
            " \n",
            "Top 5 unique values of performance_group\n",
            "  performance_group  Count\n",
            "0            Middle    376\n",
            "1            Bottom    129\n",
            "2               Top     66\n",
            " \n",
            "Top 5 unique values of manager_hire\n",
            "  manager_hire  Count\n",
            "0            N    542\n",
            "1            Y     29\n",
            " \n",
            "Top 5 unique values of reduced_schedule\n",
            "  reduced_schedule  Count\n",
            "0                N    428\n",
            "1                Y    143\n",
            " \n",
            "Top 5 unique values of mobile_flag\n",
            "  mobile_flag  Count\n",
            "0           N    433\n",
            "1           Y    138\n",
            " \n",
            "Top 5 unique values of high_hours_flag\n",
            "  high_hours_flag  Count\n",
            "0               N    345\n",
            "1               Y    226\n",
            " \n",
            "Top 5 unique values of city\n",
            "            city  Count\n",
            "0        Toronto    213\n",
            "1       New York    196\n",
            "2        Chicago     62\n",
            "3  San Francisco     52\n",
            "4        Houston     25\n",
            " \n",
            "\n",
            "To check: \n",
            "Distribution of numeric data\n"
          ],
          "name": "stdout"
        },
        {
          "output_type": "display_data",
          "data": {
            "text/html": [
              "<div>\n",
              "<style scoped>\n",
              "    .dataframe tbody tr th:only-of-type {\n",
              "        vertical-align: middle;\n",
              "    }\n",
              "\n",
              "    .dataframe tbody tr th {\n",
              "        vertical-align: top;\n",
              "    }\n",
              "\n",
              "    .dataframe thead th {\n",
              "        text-align: right;\n",
              "    }\n",
              "</style>\n",
              "<table border=\"1\" class=\"dataframe\">\n",
              "  <thead>\n",
              "    <tr style=\"text-align: right;\">\n",
              "      <th></th>\n",
              "      <th>count</th>\n",
              "      <th>mean</th>\n",
              "      <th>std</th>\n",
              "      <th>min</th>\n",
              "      <th>25%</th>\n",
              "      <th>50%</th>\n",
              "      <th>75%</th>\n",
              "      <th>max</th>\n",
              "    </tr>\n",
              "  </thead>\n",
              "  <tbody>\n",
              "    <tr>\n",
              "      <th>customers</th>\n",
              "      <td>571.0</td>\n",
              "      <td>21.061296</td>\n",
              "      <td>4.876160</td>\n",
              "      <td>10.0</td>\n",
              "      <td>18.0</td>\n",
              "      <td>20.0</td>\n",
              "      <td>24.0</td>\n",
              "      <td>40.0</td>\n",
              "    </tr>\n",
              "    <tr>\n",
              "      <th>group_size</th>\n",
              "      <td>571.0</td>\n",
              "      <td>11.823117</td>\n",
              "      <td>2.947831</td>\n",
              "      <td>5.0</td>\n",
              "      <td>10.0</td>\n",
              "      <td>11.0</td>\n",
              "      <td>13.0</td>\n",
              "      <td>25.0</td>\n",
              "    </tr>\n",
              "    <tr>\n",
              "      <th>test_score</th>\n",
              "      <td>571.0</td>\n",
              "      <td>240.171629</td>\n",
              "      <td>80.042326</td>\n",
              "      <td>0.0</td>\n",
              "      <td>182.0</td>\n",
              "      <td>235.0</td>\n",
              "      <td>295.0</td>\n",
              "      <td>500.0</td>\n",
              "    </tr>\n",
              "    <tr>\n",
              "      <th>yrs_employed</th>\n",
              "      <td>571.0</td>\n",
              "      <td>4.595622</td>\n",
              "      <td>0.536197</td>\n",
              "      <td>2.0</td>\n",
              "      <td>4.3</td>\n",
              "      <td>4.6</td>\n",
              "      <td>5.0</td>\n",
              "      <td>6.0</td>\n",
              "    </tr>\n",
              "    <tr>\n",
              "      <th>transfers</th>\n",
              "      <td>571.0</td>\n",
              "      <td>0.796848</td>\n",
              "      <td>1.113265</td>\n",
              "      <td>0.0</td>\n",
              "      <td>0.0</td>\n",
              "      <td>0.0</td>\n",
              "      <td>2.0</td>\n",
              "      <td>5.0</td>\n",
              "    </tr>\n",
              "  </tbody>\n",
              "</table>\n",
              "</div>"
            ],
            "text/plain": [
              "              count        mean        std   min    25%    50%    75%    max\n",
              "customers     571.0   21.061296   4.876160  10.0   18.0   20.0   24.0   40.0\n",
              "group_size    571.0   11.823117   2.947831   5.0   10.0   11.0   13.0   25.0\n",
              "test_score    571.0  240.171629  80.042326   0.0  182.0  235.0  295.0  500.0\n",
              "yrs_employed  571.0    4.595622   0.536197   2.0    4.3    4.6    5.0    6.0\n",
              "transfers     571.0    0.796848   1.113265   0.0    0.0    0.0    2.0    5.0"
            ]
          },
          "metadata": {
            "tags": []
          }
        }
      ]
    },
    {
      "cell_type": "markdown",
      "metadata": {
        "id": "Ex85r_xgJtsW",
        "colab_type": "text"
      },
      "source": [
        "From the script above we can glean some basic information about the dataset such as:\n",
        "\n",
        "*   No missing values (yay)\n",
        "*   A few categorical variables that will need to be handled later on to input into any model\n",
        "*   The average manager has been employed for around ~4.5 years\n",
        "\n"
      ]
    },
    {
      "cell_type": "markdown",
      "metadata": {
        "id": "tmKfHB4wGWnp",
        "colab_type": "text"
      },
      "source": [
        "Since we know the dependent variable is the performance group, we can additionally take a look of the distribution in the data set to see what it currently looks like."
      ]
    },
    {
      "cell_type": "code",
      "metadata": {
        "id": "lV-7pzLwFuRy",
        "colab_type": "code",
        "outputId": "54035701-13b2-4b81-b2a8-61b70fe5ab7b",
        "colab": {
          "base_uri": "https://localhost:8080/",
          "height": 297
        }
      },
      "source": [
        "sns.countplot(x=\"performance_group\", data=raw_df)"
      ],
      "execution_count": 0,
      "outputs": [
        {
          "output_type": "execute_result",
          "data": {
            "text/plain": [
              "<matplotlib.axes._subplots.AxesSubplot at 0x7f0f618b1518>"
            ]
          },
          "metadata": {
            "tags": []
          },
          "execution_count": 9
        },
        {
          "output_type": "display_data",
          "data": {
            "image/png": "[encoded data removed]",
            "text/plain": [
              "<Figure size 432x288 with 1 Axes>"
            ]
          },
          "metadata": {
            "tags": [],
            "needs_background": "light"
          }
        }
      ]
    },
    {
      "cell_type": "code",
      "metadata": {
        "id": "7an4aSwUAkU5",
        "colab_type": "code",
        "outputId": "02903502-2098-49c6-d1d4-4ecc13a14623",
        "colab": {
          "base_uri": "https://localhost:8080/",
          "height": 173
        }
      },
      "source": [
        "raw_df.groupby(['performance_group']).mean()"
      ],
      "execution_count": 0,
      "outputs": [
        {
          "output_type": "execute_result",
          "data": {
            "text/html": [
              "<div>\n",
              "<style scoped>\n",
              "    .dataframe tbody tr th:only-of-type {\n",
              "        vertical-align: middle;\n",
              "    }\n",
              "\n",
              "    .dataframe tbody tr th {\n",
              "        vertical-align: top;\n",
              "    }\n",
              "\n",
              "    .dataframe thead th {\n",
              "        text-align: right;\n",
              "    }\n",
              "</style>\n",
              "<table border=\"1\" class=\"dataframe\">\n",
              "  <thead>\n",
              "    <tr style=\"text-align: right;\">\n",
              "      <th></th>\n",
              "      <th>customers</th>\n",
              "      <th>group_size</th>\n",
              "      <th>test_score</th>\n",
              "      <th>yrs_employed</th>\n",
              "      <th>transfers</th>\n",
              "    </tr>\n",
              "    <tr>\n",
              "      <th>performance_group</th>\n",
              "      <th></th>\n",
              "      <th></th>\n",
              "      <th></th>\n",
              "      <th></th>\n",
              "      <th></th>\n",
              "    </tr>\n",
              "  </thead>\n",
              "  <tbody>\n",
              "    <tr>\n",
              "      <th>Bottom</th>\n",
              "      <td>20.961240</td>\n",
              "      <td>11.364341</td>\n",
              "      <td>218.713178</td>\n",
              "      <td>4.751163</td>\n",
              "      <td>0.945736</td>\n",
              "    </tr>\n",
              "    <tr>\n",
              "      <th>Middle</th>\n",
              "      <td>20.984043</td>\n",
              "      <td>11.840426</td>\n",
              "      <td>242.023936</td>\n",
              "      <td>4.583777</td>\n",
              "      <td>0.787234</td>\n",
              "    </tr>\n",
              "    <tr>\n",
              "      <th>Top</th>\n",
              "      <td>21.696970</td>\n",
              "      <td>12.621212</td>\n",
              "      <td>271.560606</td>\n",
              "      <td>4.359091</td>\n",
              "      <td>0.560606</td>\n",
              "    </tr>\n",
              "  </tbody>\n",
              "</table>\n",
              "</div>"
            ],
            "text/plain": [
              "                   customers  group_size  test_score  yrs_employed  transfers\n",
              "performance_group                                                            \n",
              "Bottom             20.961240   11.364341  218.713178      4.751163   0.945736\n",
              "Middle             20.984043   11.840426  242.023936      4.583777   0.787234\n",
              "Top                21.696970   12.621212  271.560606      4.359091   0.560606"
            ]
          },
          "metadata": {
            "tags": []
          },
          "execution_count": 10
        }
      ]
    },
    {
      "cell_type": "markdown",
      "metadata": {
        "id": "Gxnqs-5eG-cI",
        "colab_type": "text"
      },
      "source": [
        "While we'd like to have a larger dataset, it's not unusual for a multiclass classification problem like this to have an imbalanced dataset. However, this can be an issue for our models later since they would be learning on skewed data. To get around this we'll use what's called stratification, which will make sure the different classes are represented later in the build section.  \n",
        "\n",
        "Addiotnally we can also see a interesting bit of information that the top performing managers have less transfers than the bottom group in the dataset."
      ]
    },
    {
      "cell_type": "markdown",
      "metadata": {
        "id": "0dYD8_yZwAKS",
        "colab_type": "text"
      },
      "source": [
        "# Data Preprocessing"
      ]
    },
    {
      "cell_type": "markdown",
      "metadata": {
        "id": "vLUu0ER_2-fR",
        "colab_type": "text"
      },
      "source": [
        "Before creating our different multi-class classification algorithms, we need to make sure the data is properly prepared. Typically this includes the following:\n",
        "\n",
        "\n",
        "\n",
        "*   Handling Missing Data (Can skip this since there aren't any missing vals)\n",
        "*   Dropping irrelevent columns\n",
        "*   Encoding Categorical Variables (Feature Scaling will be in our pipeline preprocessor but it's only used on the training set after splitting the data)\n",
        "*   Split the Data into Training and Test Set\n",
        "\n"
      ]
    },
    {
      "cell_type": "markdown",
      "metadata": {
        "id": "g1SRcRsPjSOp",
        "colab_type": "text"
      },
      "source": [
        "### Dropping irrelevent columns\n"
      ]
    },
    {
      "cell_type": "code",
      "metadata": {
        "id": "jsvjkWiujfcs",
        "colab_type": "code",
        "colab": {}
      },
      "source": [
        "# Dropping irrelevant columns (employee_id)\n",
        "df = raw_df.drop(['employee_id'],axis=1)"
      ],
      "execution_count": 0,
      "outputs": []
    },
    {
      "cell_type": "code",
      "metadata": {
        "id": "Zy8G22Pl-_Pk",
        "colab_type": "code",
        "colab": {}
      },
      "source": [
        "#Sklearn Libraries\n",
        "from sklearn.preprocessing import LabelEncoder\n",
        "from sklearn.preprocessing import StandardScaler\n",
        "from sklearn.preprocessing import OneHotEncoder\n",
        "\n",
        "from sklearn.pipeline import Pipeline \n",
        "from sklearn.compose import ColumnTransformer \n",
        "\n",
        "from sklearn.model_selection import train_test_split\n",
        "from sklearn.model_selection import cross_val_score\n",
        "from sklearn.model_selection import RepeatedStratifiedKFold\n",
        "import sklearn.metrics as metrics\n",
        "from sklearn.metrics import plot_confusion_matrix\n",
        "from sklearn.metrics import ConfusionMatrixDisplay\n",
        "from sklearn.metrics import confusion_matrix\n",
        "\n",
        "\n",
        "from sklearn.neighbors import KNeighborsClassifier\n",
        "from sklearn.linear_model import LogisticRegression\n",
        "from sklearn import svm\n",
        "from sklearn.neural_network import MLPClassifier\n",
        "from sklearn.ensemble import RandomForestClassifier\n",
        "import xgboost as xgb\n",
        "from sklearn.naive_bayes import GaussianNB "
      ],
      "execution_count": 0,
      "outputs": []
    },
    {
      "cell_type": "markdown",
      "metadata": {
        "id": "vF1DdOsqjTkd",
        "colab_type": "text"
      },
      "source": [
        "### Encoding Categorical Variables and Feature Scaling in Pipeline"
      ]
    },
    {
      "cell_type": "code",
      "metadata": {
        "id": "Fn5gnSUYjm1v",
        "colab_type": "code",
        "colab": {}
      },
      "source": [
        "# Seperate dependent and independent variables\n",
        "y = df['performance_group']\n",
        "X = df.drop(['performance_group'],axis=1)\n",
        "\n",
        "class_names = df['performance_group'].unique().tolist()\n",
        "\n",
        "#Use label Encoder for the features because there is an ordinal hierarchy in the data\n",
        "le = LabelEncoder()\n",
        "y = le.fit_transform(y)\n",
        "\n",
        "#Create transformers and pipeline that will be used before model fit\n",
        "# define transformers\n",
        "ss = StandardScaler() #standardize the feature scaling for the numerical features\n",
        "ohe = OneHotEncoder(drop='first') #avoid dummy variable trap on categorical data\n",
        "\n",
        "#find numerical and categorical features \n",
        "categorical_features = X.select_dtypes(include = 'object').columns.tolist()\n",
        "numeric_features = X.select_dtypes(include = 'float').columns.tolist()\n",
        "\n",
        "#create the preprocessing pipelines for both numeric and categorical data. no simple imputer as there's no missing data\n",
        "numeric_transformer = Pipeline(steps=[\n",
        "                      ('scaler', ss)])\n",
        "categorical_transformer = Pipeline(steps=[\n",
        "                      ('onehot', ohe)])\n",
        "\n",
        "# create columntransformer preprocessor to be used in future models\n",
        "preprocessor = ColumnTransformer(\n",
        "    transformers=[\n",
        "        ('num', numeric_transformer, numeric_features),\n",
        "        ('cat', categorical_transformer, categorical_features)])\n",
        "\n",
        "preprocessor_rf = ColumnTransformer(\n",
        "    transformers=[\n",
        "        ('cat', categorical_transformer, categorical_features)],remainder = 'passthrough')"
      ],
      "execution_count": 0,
      "outputs": []
    },
    {
      "cell_type": "markdown",
      "metadata": {
        "id": "2xYMsuWzkVsl",
        "colab_type": "text"
      },
      "source": [
        "### Split the Data into Training and Test Set"
      ]
    },
    {
      "cell_type": "code",
      "metadata": {
        "id": "CiQWjfShiHOx",
        "colab_type": "code",
        "colab": {}
      },
      "source": [
        "# split data into train and test 70% in train. stratify to make representation \n",
        "X_train, X_test, y_train, y_test = train_test_split(X, y, test_size = 0.3,stratify = y, random_state = 1)"
      ],
      "execution_count": 0,
      "outputs": []
    },
    {
      "cell_type": "markdown",
      "metadata": {
        "id": "AeV2m8Y788N8",
        "colab_type": "text"
      },
      "source": [
        "# Data Modeling"
      ]
    },
    {
      "cell_type": "markdown",
      "metadata": {
        "id": "1tKpB9AM3KdZ",
        "colab_type": "text"
      },
      "source": [
        "There are a lot of popular algorithms we can use for multiclass classification problems like this, here are the few we'll work through:\n",
        "*   K-NN\n",
        "*   Naive Bayes\n",
        "*   Logistic Regression (Adjusted for MultiClass)\n",
        "*   Support Vector Machine (SVM)\n",
        "*   Neural Network\n",
        "*   Random Forest\n",
        "*   XGBoost\n",
        "\n",
        "Since we're using Pipeline to preprocess the data, it should be easy to quickly generate new models and show the results. For each model, there will be a function to generate various evaluation metrics including accuracy for cross validation of the training data and accuracy of the test data, a classification report (which includes precision, recall, f1-score, and support), and finally a confusion matrix.\n",
        "\n",
        "\n",
        "A quick primer on what these are and how to interpret them:\n",
        "*   Accuracy\n",
        "  * Simply the number of correct predictions from all predictions made. Accuracy can be misleading however. Sometimes it may be desirable to select a model with a lower accuracy because it has a greater predictive power on the problem. Additionally, in a problem where there is a large class imbalance (like this one), a model can predict the value of the majority class for all predictions and achieve a high classification accuracy, the problem is that this model is not useful for new data. Another issue is that it doesn't tell you the context such as false negative and positives like the confusion matrix does, which is tremendously importante when you're working with data that effects human lives such as a cancer diagnosis. \n",
        "*   Classification Report\n",
        "    *   Precision\n",
        "      *   Precision is the ability of a classiifer not to label an instance positive that is actually negative. For each class it is defined as as the ratio of true positives to the sum of true and false positives. Said another way, “for all instances classified positive, what percent was correct?”\n",
        "    *   Recall\n",
        "      * Recall is the ability of a classifier to find all positive instances. For each class it is defined as the ratio of true positives to the sum of true positives and false negatives. Said another way, “for all instances that were actually positive, what percent was classified correctly?”\n",
        "    *   F1 Score\n",
        "      * The F1 score is a weighted harmonic mean of precision and recall such that the best score is 1.0 and the worst is 0.0. Generally speaking, F1 scores are lower than accuracy measures as they embed precision and recall into their computation. As a rule of thumb, the weighted average of F1 should be used to compare classifier models, not global accuracy.\n",
        "    *   Support\n",
        "      *   The number of occurences of the given class in the dataset. As mentioned above, we're mostly working with an imbalanced dataset and have taken a few steps to adjust for this.\n",
        "*   Confusion Matrix\n",
        "  * Similar to a classification report, the confusion matrix is a table that shows you the performance of a classification model. It contains information about the actual and prediction classifications done by the classifier and this information is used to evaluate the performance of the classifier.\n"
      ]
    },
    {
      "cell_type": "markdown",
      "metadata": {
        "id": "MKGB0fSirhvB",
        "colab_type": "text"
      },
      "source": [
        "### K-NN"
      ]
    },
    {
      "cell_type": "markdown",
      "metadata": {
        "id": "xOBZg_WIir4u",
        "colab_type": "text"
      },
      "source": [
        "One of the most simple algorithms to conceptually understand. When an outcome is required for a new data instance, the KNN algorithm goes through the data set to find the k-nearest instances to the new instance, or the k number of instances most similar to the new record, and then outputs the mean of the outcomes (for a regression problem) or the mode (most frequent class) for a classification problem. The value of k is user-specified."
      ]
    },
    {
      "cell_type": "code",
      "metadata": {
        "id": "GdF-3Fzdt8Jv",
        "colab_type": "code",
        "colab": {}
      },
      "source": [
        "# Fit KNN Model after preprocessing \n",
        "# choose 29 as a loop of 1-100 which isn't a realistic option with a larger dataset\n",
        "knn = Pipeline(steps=[('preprocessor', preprocessor),\n",
        "                      ('classifier', KNeighborsClassifier(n_neighbors=29))])\n",
        "\n",
        "_ = knn.fit(X_train,y_train) #supress output on screen"
      ],
      "execution_count": 0,
      "outputs": []
    },
    {
      "cell_type": "markdown",
      "metadata": {
        "id": "IMvNwp5IPozV",
        "colab_type": "text"
      },
      "source": [
        "#### Accuracy, Classification Report, and Confusion Matrix"
      ]
    },
    {
      "cell_type": "code",
      "metadata": {
        "id": "1VtuUMVQ6rEK",
        "colab_type": "code",
        "outputId": "d43aa6eb-e1f4-4546-ae0c-81561892d386",
        "colab": {
          "base_uri": "https://localhost:8080/",
          "height": 587
        }
      },
      "source": [
        "summary_report(knn)"
      ],
      "execution_count": 0,
      "outputs": [
        {
          "output_type": "stream",
          "text": [
            "Cross Validation Accuracy (Training Data): 0.657\n",
            "Accuracy (Test Data): 0.651\n",
            "Classification Report (Test Data):\n",
            "              precision    recall  f1-score   support\n",
            "\n",
            "      Bottom       0.33      0.03      0.05        39\n",
            "      Middle       0.66      0.98      0.79       113\n",
            "         Top       0.00      0.00      0.00        20\n",
            "\n",
            "    accuracy                           0.65       172\n",
            "   macro avg       0.33      0.34      0.28       172\n",
            "weighted avg       0.51      0.65      0.53       172\n",
            "\n",
            "Confusion matrix (Test Data)\n"
          ],
          "name": "stdout"
        },
        {
          "output_type": "stream",
          "text": [
            "/usr/local/lib/python3.6/dist-packages/sklearn/metrics/_classification.py:1272: UndefinedMetricWarning: Precision and F-score are ill-defined and being set to 0.0 in labels with no predicted samples. Use `zero_division` parameter to control this behavior.\n",
            "  _warn_prf(average, modifier, msg_start, len(result))\n"
          ],
          "name": "stderr"
        },
        {
          "output_type": "display_data",
          "data": {
            "image/png": "[encoded data removed]",
            "text/plain": [
              "<Figure size 432x288 with 2 Axes>"
            ]
          },
          "metadata": {
            "tags": [],
            "needs_background": "light"
          }
        }
      ]
    },
    {
      "cell_type": "markdown",
      "metadata": {
        "id": "Ky9RD12fXtX2",
        "colab_type": "text"
      },
      "source": [
        "### Naive Bayes"
      ]
    },
    {
      "cell_type": "markdown",
      "metadata": {
        "id": "9Bwj5a9Yk6KA",
        "colab_type": "text"
      },
      "source": [
        "To calculate the probability that an event will occur, given that another event has already occurred, we use Bayes’s Theorem. To calculate the probability of hypothesis(h) being true, given our prior knowledge(d), we use Bayes’s Theorem. This algorithm is called ‘naive’ because it assumes that all the variables are independent of each other, which is a naive assumption to make in real-world examples."
      ]
    },
    {
      "cell_type": "code",
      "metadata": {
        "id": "q0b2Bw9jXsWK",
        "colab_type": "code",
        "colab": {}
      },
      "source": [
        "# Fit Model after preprocessing \n",
        "NB = Pipeline(steps=[('preprocessor', preprocessor),\n",
        "                      ('classifier', GaussianNB())])\n",
        "_ = NB.fit(X_train,y_train)"
      ],
      "execution_count": 0,
      "outputs": []
    },
    {
      "cell_type": "markdown",
      "metadata": {
        "id": "QBp-zeBoXuDa",
        "colab_type": "text"
      },
      "source": [
        "#### Accuracy, Classification Report, and Confusion Matrix"
      ]
    },
    {
      "cell_type": "code",
      "metadata": {
        "id": "mGX5JEh8YCPB",
        "colab_type": "code",
        "outputId": "b5e04371-95aa-48da-f7d9-d79ee6d9fe0f",
        "colab": {
          "base_uri": "https://localhost:8080/",
          "height": 533
        }
      },
      "source": [
        "summary_report(NB)"
      ],
      "execution_count": 0,
      "outputs": [
        {
          "output_type": "stream",
          "text": [
            "Cross Validation Accuracy (Training Data): 0.400\n",
            "Accuracy (Test Data): 0.570\n",
            "Classification Report (Test Data):\n",
            "              precision    recall  f1-score   support\n",
            "\n",
            "      Bottom       0.28      0.23      0.25        39\n",
            "      Middle       0.67      0.75      0.71       113\n",
            "         Top       0.29      0.20      0.24        20\n",
            "\n",
            "    accuracy                           0.57       172\n",
            "   macro avg       0.41      0.39      0.40       172\n",
            "weighted avg       0.54      0.57      0.55       172\n",
            "\n",
            "Confusion matrix (Test Data)\n"
          ],
          "name": "stdout"
        },
        {
          "output_type": "display_data",
          "data": {
            "image/png": "[encoded data removed]",
            "text/plain": [
              "<Figure size 432x288 with 2 Axes>"
            ]
          },
          "metadata": {
            "tags": [],
            "needs_background": "light"
          }
        }
      ]
    },
    {
      "cell_type": "markdown",
      "metadata": {
        "id": "qDSHsPJhRWd2",
        "colab_type": "text"
      },
      "source": [
        "### Logistic Regression"
      ]
    },
    {
      "cell_type": "markdown",
      "metadata": {
        "id": "Bm2GYbHXl79w",
        "colab_type": "text"
      },
      "source": [
        "Similar to linear regression except that logistic regression predictions are discrete values for predicting categorical varialbles instead of a value (linear regression), after applying a transformation function. They focuses on estimating the probability of an event occurring based on the previous data provided."
      ]
    },
    {
      "cell_type": "code",
      "metadata": {
        "id": "5iL9t7mHR81o",
        "colab_type": "code",
        "colab": {}
      },
      "source": [
        "# Fit Model after preprocessing \n",
        "lr = Pipeline(steps=[('preprocessor', preprocessor),\n",
        "                      ('classifier', LogisticRegression(random_state=0, solver='lbfgs', multi_class='multinomial'))])\n",
        "\n",
        "_ = lr.fit(X_train,y_train)"
      ],
      "execution_count": 0,
      "outputs": []
    },
    {
      "cell_type": "markdown",
      "metadata": {
        "id": "XzUXfvKXSUHl",
        "colab_type": "text"
      },
      "source": [
        "#### Accuracy, Classification Report, and Confusion Matrix"
      ]
    },
    {
      "cell_type": "code",
      "metadata": {
        "id": "p19Q7ONFSnUF",
        "colab_type": "code",
        "outputId": "05fe7bee-5031-48a3-aa70-4c0bc0805730",
        "colab": {
          "base_uri": "https://localhost:8080/",
          "height": 533
        }
      },
      "source": [
        "summary_report(lr)"
      ],
      "execution_count": 0,
      "outputs": [
        {
          "output_type": "stream",
          "text": [
            "Cross Validation Accuracy (Training Data): 0.637\n",
            "Accuracy (Test Data): 0.634\n",
            "Classification Report (Test Data):\n",
            "              precision    recall  f1-score   support\n",
            "\n",
            "      Bottom       0.50      0.08      0.13        39\n",
            "      Middle       0.66      0.93      0.77       113\n",
            "         Top       0.17      0.05      0.08        20\n",
            "\n",
            "    accuracy                           0.63       172\n",
            "   macro avg       0.44      0.35      0.33       172\n",
            "weighted avg       0.56      0.63      0.54       172\n",
            "\n",
            "Confusion matrix (Test Data)\n"
          ],
          "name": "stdout"
        },
        {
          "output_type": "display_data",
          "data": {
            "image/png": "[encoded data removed]",
            "text/plain": [
              "<Figure size 432x288 with 2 Axes>"
            ]
          },
          "metadata": {
            "tags": [],
            "needs_background": "light"
          }
        }
      ]
    },
    {
      "cell_type": "markdown",
      "metadata": {
        "id": "tpgFdNd1rJri",
        "colab_type": "text"
      },
      "source": [
        "### Mord (Ordinal Logistic Regression)"
      ]
    },
    {
      "cell_type": "markdown",
      "metadata": {
        "id": "K8lnqckmysz3",
        "colab_type": "text"
      },
      "source": [
        "Ordinal Regression denotes a family of statistical learning methods in which the goal is to predict a variable which is discrete and ordered."
      ]
    },
    {
      "cell_type": "code",
      "metadata": {
        "id": "DEbH4g2XrJEj",
        "colab_type": "code",
        "colab": {}
      },
      "source": [
        "# Fit Model after preprocessing \n",
        "mo = Pipeline(steps=[('preprocessor', preprocessor),\n",
        "                      ('classifier', mord.LogisticAT(alpha=1.))])\n",
        "\n",
        "_ = mo.fit(X_train,y_train)"
      ],
      "execution_count": 0,
      "outputs": []
    },
    {
      "cell_type": "markdown",
      "metadata": {
        "id": "WgtsSd8pyOpL",
        "colab_type": "text"
      },
      "source": [
        "#### Accuracy, Classification Report, and Confusion Matrix"
      ]
    },
    {
      "cell_type": "code",
      "metadata": {
        "id": "QohcQTAZsHvT",
        "colab_type": "code",
        "outputId": "a5bd503a-f254-4984-c7b7-17bec3b5a984",
        "colab": {
          "base_uri": "https://localhost:8080/",
          "height": 500
        }
      },
      "source": [
        "summary_report_mord(mo)"
      ],
      "execution_count": 0,
      "outputs": [
        {
          "output_type": "stream",
          "text": [
            "Cross Validation Accuracy (Training Data): 0.667\n",
            "Accuracy (Test Data): 0.651\n",
            "Classification Report (Test Data):\n",
            "              precision    recall  f1-score   support\n",
            "\n",
            "      Bottom       0.43      0.08      0.13        39\n",
            "      Middle       0.66      0.96      0.78       113\n",
            "         Top       0.00      0.00      0.00        20\n",
            "\n",
            "    accuracy                           0.65       172\n",
            "   macro avg       0.36      0.35      0.30       172\n",
            "weighted avg       0.53      0.65      0.54       172\n",
            "\n"
          ],
          "name": "stdout"
        },
        {
          "output_type": "display_data",
          "data": {
            "image/png": "[encoded data removed]",
            "text/plain": [
              "<Figure size 432x288 with 2 Axes>"
            ]
          },
          "metadata": {
            "tags": [],
            "needs_background": "light"
          }
        }
      ]
    },
    {
      "cell_type": "markdown",
      "metadata": {
        "id": "BciDf0ZDRplD",
        "colab_type": "text"
      },
      "source": [
        "### Support Vector Machines (SVM)"
      ]
    },
    {
      "cell_type": "markdown",
      "metadata": {
        "id": "Y647Mtnqmij7",
        "colab_type": "text"
      },
      "source": [
        "Support Vector Machine algorithms essentially filter data into categories, which is achieved by providing a set of training examples, each set marked as belonging to one or the other of the other categories. The algorithm then works to build a model that assigns new values to one category or the other."
      ]
    },
    {
      "cell_type": "code",
      "metadata": {
        "id": "lRCCa6YzSr_b",
        "colab_type": "code",
        "colab": {}
      },
      "source": [
        "# Fit Model after preprocessing \n",
        "SVM = Pipeline(steps=[('preprocessor', preprocessor),\n",
        "                      ('classifier', svm.SVC(decision_function_shape=\"ovo\"))])\n",
        "\n",
        "_ = SVM.fit(X_train,y_train)"
      ],
      "execution_count": 0,
      "outputs": []
    },
    {
      "cell_type": "markdown",
      "metadata": {
        "id": "D0PugFn1SYtF",
        "colab_type": "text"
      },
      "source": [
        "#### Accuracy, Classification Report, and Confusion Matrix"
      ]
    },
    {
      "cell_type": "code",
      "metadata": {
        "id": "-asM9Zb2Txa6",
        "colab_type": "code",
        "outputId": "b3698a18-c7d6-4dff-fada-516882d57c02",
        "colab": {
          "base_uri": "https://localhost:8080/",
          "height": 587
        }
      },
      "source": [
        "summary_report(SVM)"
      ],
      "execution_count": 0,
      "outputs": [
        {
          "output_type": "stream",
          "text": [
            "Cross Validation Accuracy (Training Data): 0.664\n",
            "Accuracy (Test Data): 0.657\n",
            "Classification Report (Test Data):\n",
            "              precision    recall  f1-score   support\n",
            "\n",
            "      Bottom       0.50      0.08      0.13        39\n",
            "      Middle       0.66      0.97      0.79       113\n",
            "         Top       0.00      0.00      0.00        20\n",
            "\n",
            "    accuracy                           0.66       172\n",
            "   macro avg       0.39      0.35      0.31       172\n",
            "weighted avg       0.55      0.66      0.55       172\n",
            "\n",
            "Confusion matrix (Test Data)\n"
          ],
          "name": "stdout"
        },
        {
          "output_type": "stream",
          "text": [
            "/usr/local/lib/python3.6/dist-packages/sklearn/metrics/_classification.py:1272: UndefinedMetricWarning: Precision and F-score are ill-defined and being set to 0.0 in labels with no predicted samples. Use `zero_division` parameter to control this behavior.\n",
            "  _warn_prf(average, modifier, msg_start, len(result))\n"
          ],
          "name": "stderr"
        },
        {
          "output_type": "display_data",
          "data": {
            "image/png": "[encoded data removed]",
            "text/plain": [
              "<Figure size 432x288 with 2 Axes>"
            ]
          },
          "metadata": {
            "tags": [],
            "needs_background": "light"
          }
        }
      ]
    },
    {
      "cell_type": "markdown",
      "metadata": {
        "id": "fsOja4z-RpKI",
        "colab_type": "text"
      },
      "source": [
        "### Neural Network"
      ]
    },
    {
      "cell_type": "markdown",
      "metadata": {
        "id": "I7pFG1zzmk64",
        "colab_type": "text"
      },
      "source": [
        "Neural networks are a set of algorithms, modeled loosely after the human brain, that are designed to recognize patterns. They interpret sensory data through a kind of machine perception, labeling or clustering raw input. The patterns they recognize are numerical, contained in vectors, into which all real-world data, be it images, sound, text or time series, must be translated. Typically used for clustering and classification."
      ]
    },
    {
      "cell_type": "code",
      "metadata": {
        "id": "1tLQNETGULT8",
        "colab_type": "code",
        "colab": {}
      },
      "source": [
        "# Fit Model after preprocessing \n",
        "nn = Pipeline(steps=[('preprocessor', preprocessor),\n",
        "                      ('classifier', MLPClassifier(solver='lbfgs', alpha=1e-5, hidden_layer_sizes=(150, 10), random_state=1))])\n",
        "\n",
        "_ = nn.fit(X_train,y_train)"
      ],
      "execution_count": 0,
      "outputs": []
    },
    {
      "cell_type": "markdown",
      "metadata": {
        "id": "wMyEPkdxSb83",
        "colab_type": "text"
      },
      "source": [
        "#### Accuracy, Classification Report, and Confusion Matrix"
      ]
    },
    {
      "cell_type": "code",
      "metadata": {
        "id": "SK10cO5gUc-6",
        "colab_type": "code",
        "outputId": "ac0c69b5-34f3-41a1-8268-9eba8092bc9f",
        "colab": {
          "base_uri": "https://localhost:8080/",
          "height": 533
        }
      },
      "source": [
        "summary_report(nn)"
      ],
      "execution_count": 0,
      "outputs": [
        {
          "output_type": "stream",
          "text": [
            "Cross Validation Accuracy (Training Data): 0.537\n",
            "Accuracy (Test Data): 0.541\n",
            "Classification Report (Test Data):\n",
            "              precision    recall  f1-score   support\n",
            "\n",
            "      Bottom       0.27      0.26      0.26        39\n",
            "      Middle       0.70      0.71      0.70       113\n",
            "         Top       0.15      0.15      0.15        20\n",
            "\n",
            "    accuracy                           0.54       172\n",
            "   macro avg       0.37      0.37      0.37       172\n",
            "weighted avg       0.54      0.54      0.54       172\n",
            "\n",
            "Confusion matrix (Test Data)\n"
          ],
          "name": "stdout"
        },
        {
          "output_type": "display_data",
          "data": {
            "image/png": "[encoded data removed]",
            "text/plain": [
              "<Figure size 432x288 with 2 Axes>"
            ]
          },
          "metadata": {
            "tags": [],
            "needs_background": "light"
          }
        }
      ]
    },
    {
      "cell_type": "markdown",
      "metadata": {
        "id": "3GBSFtF6RpZQ",
        "colab_type": "text"
      },
      "source": [
        "### Random Forest"
      ]
    },
    {
      "cell_type": "markdown",
      "metadata": {
        "id": "0bcy50-KkhmN",
        "colab_type": "text"
      },
      "source": [
        "Random forests or ‘random decision forests’ is an ensemble learning method, combining multiple algorithms to generate better results for classification, regression and other tasks. Each individual classifier is weak, but when combined with others, can produce excellent results. The algorithm starts with a ‘decision tree’ (a tree-like graph or model of decisions) and an input is entered at the top. It then travels down the tree, with data being segmented into smaller and smaller sets, based on specific variables."
      ]
    },
    {
      "cell_type": "code",
      "metadata": {
        "id": "Fx0ftiv9T29u",
        "colab_type": "code",
        "colab": {}
      },
      "source": [
        "# Fit Model after preprocessing. Don't need to scale numeric data for RF\n",
        "rf = RandomForestClassifier(n_estimators=9, criterion = 'entropy', random_state=0)\n",
        "\n",
        "rf_pipe = Pipeline(steps=[('preprocessor', preprocessor_rf),\n",
        "                      ('classifier',rf )])\n",
        "\n",
        "_ = rf_pipe.fit(X_train,y_train)"
      ],
      "execution_count": 0,
      "outputs": []
    },
    {
      "cell_type": "markdown",
      "metadata": {
        "id": "vd_Oy_0-SZ_4",
        "colab_type": "text"
      },
      "source": [
        "#### Accuracy, Classification Report, and Confusion Matrix"
      ]
    },
    {
      "cell_type": "code",
      "metadata": {
        "id": "K5UlJf7i1pko",
        "colab_type": "code",
        "outputId": "f8d464dd-d4eb-468a-aaae-84f03206f2e5",
        "colab": {
          "base_uri": "https://localhost:8080/",
          "height": 533
        }
      },
      "source": [
        "summary_report(rf_pipe)"
      ],
      "execution_count": 0,
      "outputs": [
        {
          "output_type": "stream",
          "text": [
            "Cross Validation Accuracy (Training Data): 0.617\n",
            "Accuracy (Test Data): 0.570\n",
            "Classification Report (Test Data):\n",
            "              precision    recall  f1-score   support\n",
            "\n",
            "      Bottom       0.31      0.28      0.30        39\n",
            "      Middle       0.67      0.75      0.71       113\n",
            "         Top       0.18      0.10      0.13        20\n",
            "\n",
            "    accuracy                           0.57       172\n",
            "   macro avg       0.39      0.38      0.38       172\n",
            "weighted avg       0.54      0.57      0.55       172\n",
            "\n",
            "Confusion matrix (Test Data)\n"
          ],
          "name": "stdout"
        },
        {
          "output_type": "display_data",
          "data": {
            "image/png": "[encoded data removed]",
            "text/plain": [
              "<Figure size 432x288 with 2 Axes>"
            ]
          },
          "metadata": {
            "tags": [],
            "needs_background": "light"
          }
        }
      ]
    },
    {
      "cell_type": "markdown",
      "metadata": {
        "id": "40BFkOhF5AEA",
        "colab_type": "text"
      },
      "source": [
        "### XGBoost"
      ]
    },
    {
      "cell_type": "markdown",
      "metadata": {
        "id": "iVcHnTvbmnNd",
        "colab_type": "text"
      },
      "source": [
        "XGBoost is a popular and efficient open-source implementation of the gradient boosted trees algorithm. Gradient boosting is a supervised learning algorithm, which attempts to accurately predict a target variable by combining the estimates of a set of simpler, weaker models."
      ]
    },
    {
      "cell_type": "code",
      "metadata": {
        "id": "WHTXxcP15IVI",
        "colab_type": "code",
        "colab": {}
      },
      "source": [
        "# Fit Model after preprocessing \n",
        "XGB = Pipeline(steps=[('preprocessor', preprocessor_rf),\n",
        "                      ('classifier', xgb.XGBClassifier(objective='multi:softmax'))])\n",
        "\n",
        "_ = XGB.fit(X_train,y_train)"
      ],
      "execution_count": 0,
      "outputs": []
    },
    {
      "cell_type": "markdown",
      "metadata": {
        "id": "G6A-IpUnSUyX",
        "colab_type": "text"
      },
      "source": [
        "#### Accuracy, Classification Report, and Confusion Matrix"
      ]
    },
    {
      "cell_type": "code",
      "metadata": {
        "id": "QBvwKhv2SOFg",
        "colab_type": "code",
        "outputId": "7f91f976-fd07-46f7-e571-88e075020d1f",
        "colab": {
          "base_uri": "https://localhost:8080/",
          "height": 533
        }
      },
      "source": [
        "summary_report(XGB)"
      ],
      "execution_count": 0,
      "outputs": [
        {
          "output_type": "stream",
          "text": [
            "Cross Validation Accuracy (Training Data): 0.645\n",
            "Accuracy (Test Data): 0.599\n",
            "Classification Report (Test Data):\n",
            "              precision    recall  f1-score   support\n",
            "\n",
            "      Bottom       0.33      0.13      0.19        39\n",
            "      Middle       0.65      0.85      0.74       113\n",
            "         Top       0.20      0.10      0.13        20\n",
            "\n",
            "    accuracy                           0.60       172\n",
            "   macro avg       0.40      0.36      0.35       172\n",
            "weighted avg       0.53      0.60      0.54       172\n",
            "\n",
            "Confusion matrix (Test Data)\n"
          ],
          "name": "stdout"
        },
        {
          "output_type": "display_data",
          "data": {
            "image/png": "[encoded data removed]",
            "text/plain": [
              "<Figure size 432x288 with 2 Axes>"
            ]
          },
          "metadata": {
            "tags": [],
            "needs_background": "light"
          }
        }
      ]
    },
    {
      "cell_type": "markdown",
      "metadata": {
        "id": "u6aTT9Av8_bY",
        "colab_type": "text"
      },
      "source": [
        "#Model Interpretation"
      ]
    },
    {
      "cell_type": "markdown",
      "metadata": {
        "id": "AokkodDouYNw",
        "colab_type": "text"
      },
      "source": [
        "At this point we've run through the various algorithms and have seen how they compare to one another. The next part of the process is to figure out which one to use to use for our presentation to our hypothetical manager who wants us to make a recommendation on how to proceed. \n",
        "\n",
        "Since this isn't for a Kaggle competition or a production level model, we're going to choose one which is interpreteible, not necessarily the one that performed the best. For this reason, we'll go with XGBoost as decision trees are useful when trying to identify the weights that had the largest impact on the model."
      ]
    },
    {
      "cell_type": "code",
      "metadata": {
        "id": "qiCPe9Qzh3Kd",
        "colab_type": "code",
        "colab": {}
      },
      "source": [
        "onehot_columns = list(XGB.named_steps['preprocessor'].named_transformers_['cat'].named_steps['onehot'].get_feature_names(input_features=categorical_features))\n",
        "numeric_features_list = list(numeric_features)\n",
        "numeric_features_list.extend(onehot_columns)"
      ],
      "execution_count": 0,
      "outputs": []
    },
    {
      "cell_type": "code",
      "metadata": {
        "id": "hFU5eUls99qy",
        "colab_type": "code",
        "outputId": "50ed1b57-c0d3-4071-c671-fa0019f0b1f6",
        "colab": {
          "base_uri": "https://localhost:8080/",
          "height": 221
        }
      },
      "source": [
        "# Show Top 10 Weights in the Model\n",
        "eli5.show_weights(XGB.named_steps['classifier'], top=10,target_names = class_names, feature_names=numeric_features_list)"
      ],
      "execution_count": 0,
      "outputs": [
        {
          "output_type": "execute_result",
          "data": {
            "text/html": [
              "\n",
              "    <style>\n",
              "    table.eli5-weights tr:hover {\n",
              "        filter: brightness(85%);\n",
              "    }\n",
              "</style>\n",
              "\n",
              "\n",
              "\n",
              "    \n",
              "\n",
              "    \n",
              "\n",
              "    \n",
              "\n",
              "    \n",
              "\n",
              "    \n",
              "\n",
              "    \n",
              "\n",
              "\n",
              "    \n",
              "\n",
              "    \n",
              "\n",
              "    \n",
              "\n",
              "    \n",
              "\n",
              "    \n",
              "\n",
              "    \n",
              "\n",
              "\n",
              "    \n",
              "\n",
              "    \n",
              "\n",
              "    \n",
              "\n",
              "    \n",
              "\n",
              "    \n",
              "        <table class=\"eli5-weights eli5-feature-importances\" style=\"border-collapse: collapse; border: none; margin-top: 0em; table-layout: auto;\">\n",
              "    <thead>\n",
              "    <tr style=\"border: none;\">\n",
              "        <th style=\"padding: 0 1em 0 0.5em; text-align: right; border: none;\">Weight</th>\n",
              "        <th style=\"padding: 0 0.5em 0 0.5em; text-align: left; border: none;\">Feature</th>\n",
              "    </tr>\n",
              "    </thead>\n",
              "    <tbody>\n",
              "    \n",
              "        <tr style=\"background-color: hsl(120, 100.00%, 80.00%); border: none;\">\n",
              "            <td style=\"padding: 0 1em 0 0.5em; text-align: right; border: none;\">\n",
              "                0.1106\n",
              "                \n",
              "            </td>\n",
              "            <td style=\"padding: 0 0.5em 0 0.5em; text-align: left; border: none;\">\n",
              "                mobile_flag_Y\n",
              "            </td>\n",
              "        </tr>\n",
              "    \n",
              "        <tr style=\"background-color: hsl(120, 100.00%, 82.44%); border: none;\">\n",
              "            <td style=\"padding: 0 1em 0 0.5em; text-align: right; border: none;\">\n",
              "                0.0919\n",
              "                \n",
              "            </td>\n",
              "            <td style=\"padding: 0 0.5em 0 0.5em; text-align: left; border: none;\">\n",
              "                city_San Francisco\n",
              "            </td>\n",
              "        </tr>\n",
              "    \n",
              "        <tr style=\"background-color: hsl(120, 100.00%, 82.55%); border: none;\">\n",
              "            <td style=\"padding: 0 1em 0 0.5em; text-align: right; border: none;\">\n",
              "                0.0910\n",
              "                \n",
              "            </td>\n",
              "            <td style=\"padding: 0 0.5em 0 0.5em; text-align: left; border: none;\">\n",
              "                test_score\n",
              "            </td>\n",
              "        </tr>\n",
              "    \n",
              "        <tr style=\"background-color: hsl(120, 100.00%, 82.81%); border: none;\">\n",
              "            <td style=\"padding: 0 1em 0 0.5em; text-align: right; border: none;\">\n",
              "                0.0891\n",
              "                \n",
              "            </td>\n",
              "            <td style=\"padding: 0 0.5em 0 0.5em; text-align: left; border: none;\">\n",
              "                high_hours_flag_Y\n",
              "            </td>\n",
              "        </tr>\n",
              "    \n",
              "        <tr style=\"background-color: hsl(120, 100.00%, 84.01%); border: none;\">\n",
              "            <td style=\"padding: 0 1em 0 0.5em; text-align: right; border: none;\">\n",
              "                0.0803\n",
              "                \n",
              "            </td>\n",
              "            <td style=\"padding: 0 0.5em 0 0.5em; text-align: left; border: none;\">\n",
              "                yrs_employed\n",
              "            </td>\n",
              "        </tr>\n",
              "    \n",
              "        <tr style=\"background-color: hsl(120, 100.00%, 85.44%); border: none;\">\n",
              "            <td style=\"padding: 0 1em 0 0.5em; text-align: right; border: none;\">\n",
              "                0.0703\n",
              "                \n",
              "            </td>\n",
              "            <td style=\"padding: 0 0.5em 0 0.5em; text-align: left; border: none;\">\n",
              "                group_size\n",
              "            </td>\n",
              "        </tr>\n",
              "    \n",
              "        <tr style=\"background-color: hsl(120, 100.00%, 85.56%); border: none;\">\n",
              "            <td style=\"padding: 0 1em 0 0.5em; text-align: right; border: none;\">\n",
              "                0.0695\n",
              "                \n",
              "            </td>\n",
              "            <td style=\"padding: 0 0.5em 0 0.5em; text-align: left; border: none;\">\n",
              "                transfers\n",
              "            </td>\n",
              "        </tr>\n",
              "    \n",
              "        <tr style=\"background-color: hsl(120, 100.00%, 86.04%); border: none;\">\n",
              "            <td style=\"padding: 0 1em 0 0.5em; text-align: right; border: none;\">\n",
              "                0.0662\n",
              "                \n",
              "            </td>\n",
              "            <td style=\"padding: 0 0.5em 0 0.5em; text-align: left; border: none;\">\n",
              "                city_Orlando\n",
              "            </td>\n",
              "        </tr>\n",
              "    \n",
              "        <tr style=\"background-color: hsl(120, 100.00%, 86.38%); border: none;\">\n",
              "            <td style=\"padding: 0 1em 0 0.5em; text-align: right; border: none;\">\n",
              "                0.0639\n",
              "                \n",
              "            </td>\n",
              "            <td style=\"padding: 0 0.5em 0 0.5em; text-align: left; border: none;\">\n",
              "                city_New York\n",
              "            </td>\n",
              "        </tr>\n",
              "    \n",
              "        <tr style=\"background-color: hsl(120, 100.00%, 87.32%); border: none;\">\n",
              "            <td style=\"padding: 0 1em 0 0.5em; text-align: right; border: none;\">\n",
              "                0.0577\n",
              "                \n",
              "            </td>\n",
              "            <td style=\"padding: 0 0.5em 0 0.5em; text-align: left; border: none;\">\n",
              "                manager_hire_Y\n",
              "            </td>\n",
              "        </tr>\n",
              "    \n",
              "    \n",
              "        \n",
              "            <tr style=\"background-color: hsl(120, 100.00%, 87.32%); border: none;\">\n",
              "                <td colspan=\"2\" style=\"padding: 0 0.5em 0 0.5em; text-align: center; border: none; white-space: nowrap;\">\n",
              "                    <i>&hellip; 5 more &hellip;</i>\n",
              "                </td>\n",
              "            </tr>\n",
              "        \n",
              "    \n",
              "    </tbody>\n",
              "</table>\n",
              "    \n",
              "\n",
              "    \n",
              "\n",
              "\n",
              "    \n",
              "\n",
              "    \n",
              "\n",
              "    \n",
              "\n",
              "    \n",
              "\n",
              "    \n",
              "\n",
              "    \n",
              "\n",
              "\n",
              "\n"
            ],
            "text/plain": [
              "<IPython.core.display.HTML object>"
            ]
          },
          "metadata": {
            "tags": []
          },
          "execution_count": 149
        }
      ]
    },
    {
      "cell_type": "markdown",
      "metadata": {
        "id": "ufh5bdLQ30KO",
        "colab_type": "text"
      },
      "source": [
        "While the weights are not very strong, this does give us something to work with. It's interesting to notice that the San Francisco Flag had one of the higher impacts related to the model. One thing we need to keep in mind here is that these weights that had an effect on the model, we can't specifically say (in this case) which attributes were associated with the top managers."
      ]
    },
    {
      "cell_type": "markdown",
      "metadata": {
        "id": "kn3u3bPM4NmH",
        "colab_type": "text"
      },
      "source": [
        "# Strategic Recommendations"
      ]
    },
    {
      "cell_type": "markdown",
      "metadata": {
        "id": "Ye5MMxff4fzg",
        "colab_type": "text"
      },
      "source": [
        "Now that we have the bulk of the project done, the last and arguably most important part is being able to use the analysis to drive strategic recommendations. \n",
        "\n",
        "Here are three strategic recommendations I'd make based on the analysis:\n",
        "*   I'd explore allowing more managers be able to work remotely. At the time of this writing, the majority of the world is doing so already due to the COVID-19 pandemic already, so it will likely continue to be more of a common trend in the workforce going forward. Never the less, it's interesting to see it as a high performing feature in this model. Even if organizations don't specifically allow more remote work, they certainly will need to have the systems and processes in place for a more distributed workforce.\n",
        "*   As Test Score is a high weighted feature, I'd recommend looking into starting or increasing the Learning and Development resources for the company to allow for more training and learning opportunities for managers to improve their work skills. This would be not only for the specific test they are required to take, but also just to improve their leadership capabilities overall.\n",
        "*   The final recommendation is to take a look at their current process to reduce the number of times managers are entering unusually high hours. While it probably isn't feasible, or necessarily even the best option, to hire more managers, it could be a good opportunity to dive into workforce data to see if there are any tweaks they can make to better optimize their time. Starting with something on a small scale such as a survey could lead to interesting insights an organization could take advantage of. \n",
        "*   While not an offical recommendation, it's interesting to see the San Francisco office appear as a high weighted feature in the model. I'd take a deeper look there to see if there are any interesting insights that could be found."
      ]
    },
    {
      "cell_type": "markdown",
      "metadata": {
        "id": "2zRtsDhdgFnW",
        "colab_type": "text"
      },
      "source": [
        "# Future Project Updates"
      ]
    },
    {
      "cell_type": "markdown",
      "metadata": {
        "id": "XglxEeTO2iy4",
        "colab_type": "text"
      },
      "source": [
        "*   Tune and Gridsearch to optimize models\n",
        "*   Optimize Code\n"
      ]
    },
    {
      "cell_type": "markdown",
      "metadata": {
        "id": "k9R_HHwlexGd",
        "colab_type": "text"
      },
      "source": [
        "# References\n",
        "\n",
        "\n",
        "*   Classification Report Definitions - https://www.scikit-yb.org/en/latest/api/classifier/classification_report.html\n",
        "*   Confusion Matrix Definition - https://dev.to/overrideveloper/understanding-the-confusion-matrix-2dk8\n",
        "*   Accuracy Definition - https://machinelearningmastery.com/classification-accuracy-is-not-enough-more-performance-measures-you-can-use/\n",
        "*   Algorithm Definitions 1 - https://www.dataquest.io/blog/top-10-machine-learning-algorithms-for-beginners/\n",
        "* Algorithm Definitions 2 - https://www.sas.com/en_gb/insights/articles/analytics/machine-learning-algorithms.html\n",
        "* Algorithm Definitions 3 -https://pathmind.com/wiki/neural-network\n",
        "* Algorithm Definitions 4 - https://docs.aws.amazon.com/sagemaker/latest/dg/xgboost-HowItWorks.html\n",
        "* Sklearn Documentation - https://scikit-learn.org/stable/index.html\n",
        "* Géron, Aurélien. Hands-On Machine Learning with Scikit-Learn, Keras, and TensorFlow (p. 162). O'Reilly Media. Kindle Edition. \n",
        "*  An Easier Way to Encode Categorical Features -https://towardsdatascience.com/an-easier-way-to-encode-categorical-features-d840ff6b3900\n",
        "* Using ColumnTransformer to combine data processing steps - https://towardsdatascience.com/using-columntransformer-to-combine-data-processing-steps-af383f7d5260\n",
        "* One-Hot-Encoding, Multicollinearity and the Dummy Variable Trap - https://towardsdatascience.com/one-hot-encoding-multicollinearity-and-the-dummy-variable-trap-b5840be3c41a\n"
      ]
    }
  ]
}